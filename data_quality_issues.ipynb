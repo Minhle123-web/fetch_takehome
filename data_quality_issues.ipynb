{
 "cells": [
  {
   "cell_type": "code",
   "execution_count": 2,
   "metadata": {},
   "outputs": [],
   "source": [
    "import sqlite3\n",
    "database_name = 'fetch_data.db'  \n",
    "conn = sqlite3.connect(database_name)\n",
    "cursor = conn.cursor()"
   ]
  },
  {
   "cell_type": "markdown",
   "metadata": {},
   "source": [
    "### Check receipt_items table"
   ]
  },
  {
   "cell_type": "code",
   "execution_count": 24,
   "metadata": {},
   "outputs": [
    {
     "name": "stdout",
     "output_type": "stream",
     "text": [
      "receipt_item_id | user_id | barcode | receipt_id | brand_id | brand_code | description | quantity_purchased | item_price | final_price | needs_fetch_review | partner_item_id | prevent_target_gap_points | user_flagged_barcode | user_flagged_new_item | user_flagged_price | user_flagged_quantity\n",
      "--------------------------------------------------\n",
      "4 | 5ff1e1f1cfcf6c399c274b0b | NULL | 5ff1e1f10a720f052300057a | NULL | NULL | NULL | NULL | NULL | NULL | 0 | 1 | 1 | 4011 | 1 | 26.0 | 3\n",
      "9 | 5ff1e194b6a9d73a3a9f1052 | NULL | 5ff1e1cd0a720f052300056f | NULL | MISSION | MSSN TORTLLA | 1 | 2.23 | 2.23 | NULL | 1009 | NULL | NULL | NULL | NULL | NULL\n",
      "26 | 5f9c74f7c88c1415cbddb839 | NULL | 5f9c74f70a7214ad07000037 | NULL | NULL | NULL | NULL | NULL | NULL | 1 | 2 | 1 | 034100573065 | 1 | 29.0 | 1\n",
      "27 | 5f9c74f7c88c1415cbddb839 | NULL | 5f9c74f70a7214ad07000037 | NULL | NULL | NULL | NULL | NULL | NULL | 1 | 3 | 1 | 034100573065 | 1 | 29.0 | 1\n",
      "28 | 5f9c74f7c88c1415cbddb839 | NULL | 5f9c74f70a7214ad07000037 | NULL | NULL | NULL | NULL | NULL | NULL | 1 | 4 | 1 | 034100573065 | 1 | 29.0 | 1\n",
      "29 | 5f9c74f7c88c1415cbddb839 | NULL | 5f9c74f70a7214ad07000037 | NULL | NULL | NULL | NULL | NULL | NULL | 1 | 5 | 1 | 034100573065 | 1 | 29.0 | 1\n",
      "30 | 5f9c74f7c88c1415cbddb839 | NULL | 5f9c74f70a7214ad07000037 | NULL | NULL | NULL | NULL | NULL | NULL | 1 | 6 | 1 | 034100573065 | 1 | 29.0 | 1\n",
      "31 | 5f9c74f7c88c1415cbddb839 | NULL | 5f9c74f70a7214ad07000037 | NULL | NULL | NULL | NULL | NULL | NULL | 1 | 7 | 1 | 034100573065 | 1 | 29.0 | 1\n",
      "32 | 5f9c74f7c88c1415cbddb839 | NULL | 5f9c74f70a7214ad07000037 | NULL | NULL | NULL | NULL | NULL | NULL | 1 | 8 | 1 | 034100573065 | 1 | 29.0 | 1\n",
      "33 | 5f9c74f7c88c1415cbddb839 | NULL | 5f9c74f70a7214ad07000037 | NULL | NULL | NULL | NULL | NULL | NULL | 1 | 9 | 1 | 034100573065 | 1 | 29.0 | 1\n",
      "\n",
      "There are 3851 rows with null barcode\n"
     ]
    }
   ],
   "source": [
    "# Execute a query to Check for missing values, especially in key fields like barcode, brand_id, quantity_purchased, item_price, and final_price \n",
    "## in receipt_items.csv\n",
    "cursor.execute('SELECT * FROM receipt_items where barcode is null')\n",
    "rows = cursor.fetchall()\n",
    "column_names = [description[0] for description in cursor.description]\n",
    "print(f\"{' | '.join(column_names)}\")\n",
    "print('-' * 50)\n",
    "for row in rows[:10]:\n",
    "    print(' | '.join(str(item) if item is not None else 'NULL' for item in row))\n",
    "\n",
    "\n",
    "cursor.execute('SELECT COUNT(*) FROM receipt_items where barcode is null')\n",
    "count = cursor.fetchone()[0]\n",
    "print()\n",
    "print(f\"There are {count} rows with null barcode\")"
   ]
  },
  {
   "cell_type": "markdown",
   "metadata": {},
   "source": [
    "barcode is foreign key to brands table but it has many NULL values. Similar to other fields such as brand_id, quantity_purchased, item_price, and final_price."
   ]
  },
  {
   "cell_type": "code",
   "execution_count": 4,
   "metadata": {},
   "outputs": [
    {
     "name": "stdout",
     "output_type": "stream",
     "text": [
      "receipt_item_id | user_id | barcode | receipt_id | brand_id | brand_code | description | quantity_purchased | item_price | final_price | needs_fetch_review | partner_item_id | prevent_target_gap_points | user_flagged_barcode | user_flagged_new_item | user_flagged_price | user_flagged_quantity\n",
      "--------------------------------------------------\n",
      "1826 | 60025fe0e257124ec6b99a87 | NULL | 600260210a720f05f300008f | NULL | NULL | HYV SWT SMKD THICK | 1 | 4.99 | 2.88 | NULL | 1213 | NULL | NULL | NULL | NULL | NULL\n",
      "2265 | 60049cdce257124ec6b9a353 | NULL | 60049d9d0a720f05f3000094 | NULL | DARE | DARE CRACKER | 1 | 3.59 | 2.89 | NULL | 1371 | NULL | NULL | NULL | NULL | NULL\n",
      "2267 | 60049cdce257124ec6b9a353 | NULL | 60049d9d0a720f05f3000094 | NULL | NULL | Cookies | 1 | 2.59 | 2.39 | NULL | 1374 | NULL | NULL | NULL | NULL | NULL\n",
      "2268 | 60049cdce257124ec6b9a353 | NULL | 60049d9d0a720f05f3000094 | NULL | LINDT | LINDT CHOCOLATE | 1 | 2.99 | 2.5 | NULL | 1376 | NULL | NULL | NULL | NULL | NULL\n"
     ]
    }
   ],
   "source": [
    "# Execute a query to see rows with Data Inconsistency: Ensure that item_price and final_price match for each item.\n",
    "## in receipt_items.csv\n",
    "cursor.execute('SELECT * FROM receipt_items where item_price != final_price')\n",
    "rows = cursor.fetchall()\n",
    "column_names = [description[0] for description in cursor.description]\n",
    "print(f\"{' | '.join(column_names)}\")\n",
    "print('-' * 50)\n",
    "for row in rows:\n",
    "    print(' | '.join(str(item) if item is not None else 'NULL' for item in row))"
   ]
  },
  {
   "cell_type": "markdown",
   "metadata": {},
   "source": [
    "Item price and final_price are not matched in some cases."
   ]
  },
  {
   "cell_type": "code",
   "execution_count": 5,
   "metadata": {},
   "outputs": [
    {
     "name": "stdout",
     "output_type": "stream",
     "text": [
      "receipt_item_id | user_id | barcode | receipt_id | brand_id | brand_code | description | quantity_purchased | item_price | final_price | needs_fetch_review | partner_item_id | prevent_target_gap_points | user_flagged_barcode | user_flagged_new_item | user_flagged_price | user_flagged_quantity\n",
      "--------------------------------------------------\n",
      "5044 | 600f20c15edb787dce060911 | NULL | 600f24970a720f053500002f | NULL | NULL | KINDER JOY E 1 50 F | 1 | 0.0 | 0.0 | NULL | 1646 | NULL | NULL | NULL | NULL | NULL\n",
      "5293 | 600f00d05edb787dce05fb84 | NULL | 600f0cc70a720f053500002c | NULL | NULL | STACARR MRKTP C | 1 | 0.0 | 0.0 | NULL | 1323 | NULL | NULL | NULL | NULL | NULL\n",
      "5864 | 600f35015edb782098e2ac1b | NULL | 600f39c30a7214ada2000030 | NULL | NULL | KINDER JOY E 1 50 F | 1 | 0.0 | 0.0 | NULL | 1631 | NULL | NULL | NULL | NULL | NULL\n",
      "6501 | 600f29a64329897eac239049 | NULL | 600f2fc80a720f0535000030 | NULL | NULL | KINDER JOY E 1.50 F | 1 | 0.0 | 0.0 | 0 | 1653 | NULL | NULL | NULL | NULL | NULL\n"
     ]
    }
   ],
   "source": [
    "# Execute a query to see rows Invalid Values: item_price is zero or negative.\n",
    "## in receipt_items.csv\n",
    "cursor.execute('SELECT * FROM receipt_items where item_price <= 0')\n",
    "rows = cursor.fetchall()\n",
    "column_names = [description[0] for description in cursor.description]\n",
    "print(f\"{' | '.join(column_names)}\")\n",
    "print('-' * 50)\n",
    "for row in rows:\n",
    "    print(' | '.join(str(item) if item is not None else 'NULL' for item in row))"
   ]
  },
  {
   "cell_type": "markdown",
   "metadata": {},
   "source": [
    "Some items have zero in item_price and final_price"
   ]
  },
  {
   "cell_type": "markdown",
   "metadata": {},
   "source": [
    "### Check Receipts Table"
   ]
  },
  {
   "cell_type": "code",
   "execution_count": 26,
   "metadata": {},
   "outputs": [
    {
     "name": "stdout",
     "output_type": "stream",
     "text": [
      "receipt_id | purchase_date | create_date | date_scanned | finished_date | modify_date | points_awarded_date | total_spent | bonus_points_earned | bonus_points_earned_reason | purchased_item_count | rewards_receipt_status\n",
      "--------------------------------------------------\n",
      "5ff1e1e90a7214ada1000569 | NULL | 2021-01-03T07:25:29 | 2021-01-03T07:25:29 | NULL | 2021-01-03T07:25:29 | NULL | 0.0 | NULL | NULL | 0 | FLAGGED\n",
      "5ff475820a7214ada10005cf | NULL | 2021-01-05T06:19:46 | 2021-01-05T06:19:46 | NULL | 2021-01-05T06:19:46 | NULL | NULL | NULL | NULL | NULL | SUBMITTED\n",
      "5ff4ce3c0a720f05230005c4 | NULL | 2021-01-05T12:38:20 | 2021-01-05T12:38:20 | NULL | 2021-01-05T12:38:20 | NULL | 0.0 | NULL | NULL | 0 | FLAGGED\n",
      "5ff5ecb90a7214ada10005f9 | NULL | 2021-01-06T09:00:40 | 2021-01-06T09:00:40 | NULL | 2021-01-06T09:00:40 | NULL | NULL | NULL | NULL | NULL | SUBMITTED\n",
      "5ff73be90a720f052300060a | NULL | 2021-01-07T08:50:49 | 2021-01-07T08:50:49 | NULL | 2021-01-07T08:50:49 | NULL | 0.0 | NULL | NULL | 0 | FLAGGED\n",
      "5ff794600a7214ada1000647 | NULL | 2021-01-06T21:08:16 | 2021-01-06T21:08:16 | NULL | 2021-01-07T09:08:17 | NULL | 0.0 | NULL | NULL | 0 | FLAGGED\n",
      "5ff726860a720f05230005ec | NULL | 2021-01-07T07:19:34 | 2021-01-07T07:19:34 | NULL | 2021-01-07T07:19:34 | NULL | NULL | NULL | NULL | NULL | SUBMITTED\n",
      "5ff8da570a720f05c5000015 | NULL | 2021-01-08T14:19:03 | 2021-01-08T14:19:03 | NULL | 2021-01-08T14:19:04 | NULL | 0.0 | NULL | NULL | 0 | REJECTED\n",
      "5ff8da7d0a720f05c500001c | NULL | 2021-01-08T14:19:41 | 2021-01-08T14:19:41 | NULL | 2021-01-08T14:19:41 | NULL | 0.0 | NULL | NULL | 0 | FLAGGED\n",
      "5ffce8570a7214ad4e003e6f | NULL | 2021-01-11T16:07:51 | 2021-01-11T16:07:51 | NULL | 2021-01-11T16:07:51 | NULL | NULL | NULL | NULL | NULL | SUBMITTED\n",
      "5ffce8250a7214ad4e0034de | NULL | 2021-01-11T16:07:00 | 2021-01-11T16:07:00 | NULL | 2021-01-11T16:07:00 | NULL | NULL | NULL | NULL | NULL | SUBMITTED\n",
      "5ffcefb00a720f0515005e8d | NULL | 2021-01-11T16:39:12 | 2021-01-11T16:39:12 | NULL | 2021-01-11T16:39:12 | NULL | NULL | NULL | NULL | NULL | SUBMITTED\n",
      "5ffce88b0a7214ad4e004b22 | NULL | 2021-01-11T16:08:42 | 2021-01-11T16:08:42 | NULL | 2021-01-11T16:08:42 | NULL | NULL | NULL | NULL | NULL | SUBMITTED\n",
      "5ffce7a70a720f05150016b0 | NULL | 2021-01-11T16:04:55 | 2021-01-11T16:04:55 | NULL | 2021-01-11T16:04:55 | NULL | NULL | NULL | NULL | NULL | SUBMITTED\n",
      "5ffce7ae0a7214ad4e001851 | NULL | 2021-01-11T16:05:01 | 2021-01-11T16:05:01 | NULL | 2021-01-11T16:05:01 | NULL | NULL | NULL | NULL | NULL | SUBMITTED\n",
      "5ffce8150a7214ad4e0030a3 | NULL | 2021-01-11T16:06:44 | 2021-01-11T16:06:44 | NULL | 2021-01-11T16:06:44 | NULL | NULL | NULL | NULL | NULL | SUBMITTED\n",
      "5ffce8250a720f0515003510 | NULL | 2021-01-11T16:07:01 | 2021-01-11T16:07:01 | NULL | 2021-01-11T16:07:01 | NULL | NULL | NULL | NULL | NULL | SUBMITTED\n",
      "5ffce78c0a7214ad4e001045 | NULL | 2021-01-11T16:04:27 | 2021-01-11T16:04:27 | NULL | 2021-01-11T16:04:27 | NULL | NULL | NULL | NULL | NULL | SUBMITTED\n",
      "5ffce8000a7214ad4e002b57 | NULL | 2021-01-11T16:06:22 | 2021-01-11T16:06:22 | NULL | 2021-01-11T16:06:22 | NULL | NULL | NULL | NULL | NULL | SUBMITTED\n",
      "6000d4aa0a720f05f3000072 | NULL | 2021-01-14T15:32:58 | 2021-01-14T15:32:58 | NULL | 2021-01-14T15:32:58 | NULL | 0.0 | NULL | NULL | 0 | FLAGGED\n",
      "\n",
      "There are 448 rows with null purchase_date and total_spent\n"
     ]
    }
   ],
   "source": [
    "## Missing Values: Check for missing values in critical fields such as purchase_date and total_spent in receipts table\n",
    "cursor.execute('SELECT * FROM receipts where purchase_date is null or total_spent is null')\n",
    "rows = cursor.fetchall()\n",
    "column_names = [description[0] for description in cursor.description]\n",
    "print(f\"{' | '.join(column_names)}\")\n",
    "print('-' * 50)\n",
    "for row in rows[:20]:\n",
    "    print(' | '.join(str(item) if item is not None else 'NULL' for item in row))\n",
    "\n",
    "cursor.execute('SELECT COUNT(*) FROM receipts where purchase_date is null or total_spent is null')\n",
    "count = cursor.fetchone()[0]\n",
    "print()\n",
    "print(f\"There are {count} rows with null purchase_date and total_spent\")"
   ]
  },
  {
   "cell_type": "markdown",
   "metadata": {},
   "source": [
    "There are 448 missing entries in purchase date or total_spent in receipts table"
   ]
  },
  {
   "cell_type": "code",
   "execution_count": 12,
   "metadata": {},
   "outputs": [
    {
     "name": "stdout",
     "output_type": "stream",
     "text": [
      "count(distinct receipt_id) - count(*)\n",
      "--------------------------------------------------\n",
      "0\n"
     ]
    }
   ],
   "source": [
    "## Check uniqueness of receipt_id: receipts table\n",
    "cursor.execute('SELECT count(distinct receipt_id) - count(*) FROM receipts')\n",
    "rows = cursor.fetchall()\n",
    "column_names = [description[0] for description in cursor.description]\n",
    "print(f\"{' | '.join(column_names)}\")\n",
    "print('-' * 50)\n",
    "for row in rows[:20]:\n",
    "    print(' | '.join(str(item) if item is not None else 'NULL' for item in row))"
   ]
  },
  {
   "cell_type": "code",
   "execution_count": 27,
   "metadata": {},
   "outputs": [
    {
     "name": "stdout",
     "output_type": "stream",
     "text": [
      "receipt_id | purchase_date | create_date | date_scanned | finished_date | modify_date | points_awarded_date | total_spent | bonus_points_earned | bonus_points_earned_reason | purchased_item_count | rewards_receipt_status\n",
      "--------------------------------------------------\n",
      "5ff1e1b20a7214ada100055a | 2021-02-03T07:24:35 | 2021-01-03T07:24:34 | 2021-01-03T07:24:34 | 2021-01-03T07:24:35 | 2021-01-03T07:24:35 | 2021-01-03T07:24:35 | 1.0 | 300 | Receipt number 4 completed, bonus point schedule DEFAULT (5cefdcacf3693e0b50e83a36) | 1 | FINISHED\n",
      "5ff4ce640a7214ada10005e0 | 2021-02-05T12:39:00 | 2021-01-05T12:39:00 | 2021-01-05T12:39:00 | 2021-01-05T12:39:00 | 2021-01-05T12:39:00 | 2021-01-05T12:39:00 | 1.0 | 25 | COMPLETE_NONPARTNER_RECEIPT | 1 | FINISHED\n",
      "5fff26ee0a720f05f300001a | 2021-02-13T08:59:26 | 2021-01-13T08:59:26 | 2021-01-13T08:59:26 | 2021-01-13T08:59:26 | 2021-01-13T08:59:26 | 2021-01-13T08:59:26 | 1.0 | 25 | COMPLETE_NONPARTNER_RECEIPT | 1 | FINISHED\n",
      "600887560a720f05fa000098 | 2021-02-20T11:41:10 | 2021-01-20T11:41:10 | 2021-01-20T11:41:10 | 2021-01-20T11:41:11 | 2021-01-20T11:41:11 | 2021-01-20T11:41:11 | 1.0 | 250 | Receipt number 3 completed, bonus point schedule DEFAULT (5cefdcacf3693e0b50e83a36) | 1 | FINISHED\n",
      "60145a3d0a7214ad50000082 | 2021-02-28T10:55:58 | 2021-01-29T10:55:57 | 2021-01-29T10:55:57 | 2021-01-29T10:56:00 | 2021-01-29T10:56:00 | 2021-01-29T10:56:00 | 1.0 | 750 | Receipt number 1 completed, bonus point schedule DEFAULT (5cefdcacf3693e0b50e83a36) | 1 | FINISHED\n",
      "60182f290a720f05f800032f | 2021-03-01T08:41:13 | 2021-02-01T08:41:13 | 2021-02-01T08:41:13 | 2021-02-01T08:41:13 | 2021-02-01T08:41:13 | 2021-02-01T08:41:13 | 1.0 | 500 | Receipt number 2 completed, bonus point schedule DEFAULT (5cefdcacf3693e0b50e83a36) | 1 | FINISHED\n",
      "602176c90a7214d8e9000028 | 2021-03-08T09:37:13 | 2021-02-08T09:37:13 | 2021-02-08T09:37:13 | 2021-02-08T09:37:13 | 2021-02-08T09:37:13 | 2021-02-08T09:37:13 | 1.0 | 25 | COMPLETE_NONPARTNER_RECEIPT | 1 | FINISHED\n"
     ]
    }
   ],
   "source": [
    "## Check Date Inconsistencies: \n",
    "cursor.execute('SELECT * FROM receipts WHERE purchase_date > finished_date')\n",
    "rows = cursor.fetchall()\n",
    "column_names = [description[0] for description in cursor.description]\n",
    "print(f\"{' | '.join(column_names)}\")\n",
    "print('-' * 50)\n",
    "for row in rows[:20]:\n",
    "    print(' | '.join(str(item) if item is not None else 'NULL' for item in row))"
   ]
  },
  {
   "cell_type": "markdown",
   "metadata": {},
   "source": [
    "7 cases where purchase_date is later than finished_date"
   ]
  },
  {
   "cell_type": "markdown",
   "metadata": {},
   "source": [
    "### Check brands table"
   ]
  },
  {
   "cell_type": "code",
   "execution_count": 19,
   "metadata": {},
   "outputs": [
    {
     "name": "stdout",
     "output_type": "stream",
     "text": [
      "barcode\n",
      "--------------------------------------------------\n",
      "511111004790\n",
      "511111204923\n",
      "511111305125\n",
      "511111504139\n",
      "511111504788\n",
      "511111605058\n",
      "511111704140\n",
      "brand_id\n",
      "--------------------------------------------------\n"
     ]
    }
   ],
   "source": [
    "## Check uniqueness of brand_id, barcode from brands table\n",
    "cursor.execute('SELECT barcode FROM brands GROUP BY 1 HAVING COUNT(*) > 1')\n",
    "rows = cursor.fetchall()\n",
    "column_names = [description[0] for description in cursor.description]\n",
    "print(f\"{' | '.join(column_names)}\")\n",
    "print('-' * 50)\n",
    "for row in rows[:20]:\n",
    "    print(' | '.join(str(item) if item is not None else 'NULL' for item in row))\n",
    "\n",
    "## Check uniqueness of brand_id, barcode from brands table\n",
    "cursor.execute('SELECT brand_id FROM brands GROUP BY 1 HAVING COUNT(*) > 1')\n",
    "rows = cursor.fetchall()\n",
    "column_names = [description[0] for description in cursor.description]\n",
    "print(f\"{' | '.join(column_names)}\")\n",
    "print('-' * 50)\n",
    "for row in rows[:20]:\n",
    "    print(' | '.join(str(item) if item is not None else 'NULL' for item in row))"
   ]
  },
  {
   "cell_type": "markdown",
   "metadata": {},
   "source": [
    "There are some duplicates in barcode. All brand_id are unique, which is the PK of the table."
   ]
  },
  {
   "cell_type": "code",
   "execution_count": 29,
   "metadata": {},
   "outputs": [
    {
     "name": "stdout",
     "output_type": "stream",
     "text": [
      "COUNT(*)\n",
      "--------------------------------------------------\n",
      "234\n"
     ]
    }
   ],
   "source": [
    "## Check missing values of brand_code in brands table\n",
    "cursor.execute('SELECT COUNT(*) FROM brands WHERE brand_code IS NULL')\n",
    "rows = cursor.fetchall()\n",
    "column_names = [description[0] for description in cursor.description]\n",
    "print(f\"{' | '.join(column_names)}\")\n",
    "print('-' * 50)\n",
    "for row in rows[:20]:\n",
    "    print(' | '.join(str(item) if item is not None else 'NULL' for item in row))"
   ]
  },
  {
   "cell_type": "markdown",
   "metadata": {},
   "source": [
    "There are 269 missing value in brand_code field."
   ]
  },
  {
   "cell_type": "markdown",
   "metadata": {},
   "source": [
    "### Check users table"
   ]
  },
  {
   "cell_type": "code",
   "execution_count": 21,
   "metadata": {},
   "outputs": [
    {
     "name": "stdout",
     "output_type": "stream",
     "text": [
      "user_id | state | created_date | last_login | role | active\n",
      "--------------------------------------------------\n",
      "59c124bae4b0299e55b0f330 | WI | 2017-09-19 07:07:54.302000 | 2021-02-08 08:42:58.117000 | fetch-staff | 1\n",
      "5f2068904928021530f8fc34 | WI | 2020-07-28 11:04:00.905000 | 2021-02-04 07:30:05.375000 | fetch-staff | 1\n",
      "5fbc35711d967d1222cbfefc | NULL | 2020-11-23 14:19:29.509000 | 2021-02-25 20:25:51.057000 | fetch-staff | 1\n",
      "5fc961c3b8cfca11a077dd33 | NH | 2020-12-03 14:08:03.936000 | 2021-02-26 14:39:16.799000 | fetch-staff | 1\n",
      "5fa41775898c7a11a6bcef3e | NULL | 2020-11-05 07:17:09.396000 | 2021-03-04 08:02:02.026000 | fetch-staff | 1\n",
      "5fa32b4d898c7a11a6bcebce | AL | 2020-11-04 14:29:33.309000 | 2021-03-03 23:21:58.047000 | fetch-staff | 1\n",
      "5964eb07e4b03efd0c0f267b | IL | 2017-07-11 08:13:11.771000 | 2021-03-04 11:07:49.770000 | fetch-staff | 1\n",
      "54943462e4b07e684157a532 | NULL | 2014-12-19 06:21:22.381000 | 2021-03-05 08:52:23.204000 | fetch-staff | 1\n"
     ]
    }
   ],
   "source": [
    "## Check uniqueness of brand_id, barcode from brands table\n",
    "cursor.execute(\"SELECT * FROM users where role != 'consumer' \")\n",
    "rows = cursor.fetchall()\n",
    "column_names = [description[0] for description in cursor.description]\n",
    "print(f\"{' | '.join(column_names)}\")\n",
    "print('-' * 50)\n",
    "for row in rows[:20]:\n",
    "    print(' | '.join(str(item) if item is not None else 'NULL' for item in row))"
   ]
  },
  {
   "cell_type": "markdown",
   "metadata": {},
   "source": [
    "There are 8 cases where role column is not set to CONSUMER as constant value. "
   ]
  }
 ],
 "metadata": {
  "kernelspec": {
   "display_name": "base",
   "language": "python",
   "name": "python3"
  },
  "language_info": {
   "codemirror_mode": {
    "name": "ipython",
    "version": 3
   },
   "file_extension": ".py",
   "mimetype": "text/x-python",
   "name": "python",
   "nbconvert_exporter": "python",
   "pygments_lexer": "ipython3",
   "version": "3.9.7"
  }
 },
 "nbformat": 4,
 "nbformat_minor": 2
}
